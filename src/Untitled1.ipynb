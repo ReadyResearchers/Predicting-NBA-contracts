{
 "cells": [
  {
   "cell_type": "code",
   "execution_count": 3,
   "id": "ab222fa6-2964-4edb-8fc6-1bd0b4bc0c86",
   "metadata": {},
   "outputs": [
    {
     "data": {
      "text/html": [
       "<div>\n",
       "<style scoped>\n",
       "    .dataframe tbody tr th:only-of-type {\n",
       "        vertical-align: middle;\n",
       "    }\n",
       "\n",
       "    .dataframe tbody tr th {\n",
       "        vertical-align: top;\n",
       "    }\n",
       "\n",
       "    .dataframe thead th {\n",
       "        text-align: right;\n",
       "    }\n",
       "</style>\n",
       "<table border=\"1\" class=\"dataframe\">\n",
       "  <thead>\n",
       "    <tr style=\"text-align: right;\">\n",
       "      <th></th>\n",
       "      <th>Player_number</th>\n",
       "      <th>Age</th>\n",
       "      <th>Years</th>\n",
       "      <th>Value</th>\n",
       "      <th>Ave_Salary</th>\n",
       "      <th>Max Value</th>\n",
       "      <th>Year</th>\n",
       "      <th>Year_1</th>\n",
       "      <th>Year _2</th>\n",
       "      <th>VORP_0</th>\n",
       "    </tr>\n",
       "  </thead>\n",
       "  <tbody>\n",
       "    <tr>\n",
       "      <th>0</th>\n",
       "      <td>1</td>\n",
       "      <td>29.3</td>\n",
       "      <td>1</td>\n",
       "      <td>6000000</td>\n",
       "      <td>6000000</td>\n",
       "      <td>6000000</td>\n",
       "      <td>2020</td>\n",
       "      <td>2019</td>\n",
       "      <td>2018</td>\n",
       "      <td>0.0</td>\n",
       "    </tr>\n",
       "    <tr>\n",
       "      <th>1</th>\n",
       "      <td>2</td>\n",
       "      <td>27.4</td>\n",
       "      <td>1</td>\n",
       "      <td>2258000</td>\n",
       "      <td>2258000</td>\n",
       "      <td>2258000</td>\n",
       "      <td>2020</td>\n",
       "      <td>2019</td>\n",
       "      <td>2018</td>\n",
       "      <td>-0.1</td>\n",
       "    </tr>\n",
       "    <tr>\n",
       "      <th>2</th>\n",
       "      <td>3</td>\n",
       "      <td>27.7</td>\n",
       "      <td>5</td>\n",
       "      <td>189903600</td>\n",
       "      <td>37980720</td>\n",
       "      <td>189903600</td>\n",
       "      <td>2020</td>\n",
       "      <td>2019</td>\n",
       "      <td>2018</td>\n",
       "      <td>-1.0</td>\n",
       "    </tr>\n",
       "    <tr>\n",
       "      <th>3</th>\n",
       "      <td>4</td>\n",
       "      <td>33.9</td>\n",
       "      <td>2</td>\n",
       "      <td>14350000</td>\n",
       "      <td>7175000</td>\n",
       "      <td>14350000</td>\n",
       "      <td>2020</td>\n",
       "      <td>2019</td>\n",
       "      <td>2018</td>\n",
       "      <td>3.7</td>\n",
       "    </tr>\n",
       "    <tr>\n",
       "      <th>4</th>\n",
       "      <td>5</td>\n",
       "      <td>28.2</td>\n",
       "      <td>3</td>\n",
       "      <td>9975000</td>\n",
       "      <td>3325000</td>\n",
       "      <td>9975000</td>\n",
       "      <td>2020</td>\n",
       "      <td>2019</td>\n",
       "      <td>2018</td>\n",
       "      <td>0.0</td>\n",
       "    </tr>\n",
       "    <tr>\n",
       "      <th>5</th>\n",
       "      <td>6</td>\n",
       "      <td>29.9</td>\n",
       "      <td>1</td>\n",
       "      <td>5635000</td>\n",
       "      <td>5635000</td>\n",
       "      <td>5635000</td>\n",
       "      <td>2020</td>\n",
       "      <td>2019</td>\n",
       "      <td>2018</td>\n",
       "      <td>-0.5</td>\n",
       "    </tr>\n",
       "    <tr>\n",
       "      <th>6</th>\n",
       "      <td>7</td>\n",
       "      <td>28.2</td>\n",
       "      <td>1</td>\n",
       "      <td>3500000</td>\n",
       "      <td>3500000</td>\n",
       "      <td>3500000</td>\n",
       "      <td>2020</td>\n",
       "      <td>2019</td>\n",
       "      <td>2018</td>\n",
       "      <td>2.4</td>\n",
       "    </tr>\n",
       "    <tr>\n",
       "      <th>7</th>\n",
       "      <td>8</td>\n",
       "      <td>25.8</td>\n",
       "      <td>2</td>\n",
       "      <td>7427150</td>\n",
       "      <td>3713575</td>\n",
       "      <td>7427150</td>\n",
       "      <td>2020</td>\n",
       "      <td>2019</td>\n",
       "      <td>2018</td>\n",
       "      <td>-0.5</td>\n",
       "    </tr>\n",
       "    <tr>\n",
       "      <th>8</th>\n",
       "      <td>9</td>\n",
       "      <td>28.2</td>\n",
       "      <td>4</td>\n",
       "      <td>72000000</td>\n",
       "      <td>18000000</td>\n",
       "      <td>72000000</td>\n",
       "      <td>2020</td>\n",
       "      <td>2019</td>\n",
       "      <td>2018</td>\n",
       "      <td>0.2</td>\n",
       "    </tr>\n",
       "    <tr>\n",
       "      <th>9</th>\n",
       "      <td>10</td>\n",
       "      <td>23.2</td>\n",
       "      <td>5</td>\n",
       "      <td>158253000</td>\n",
       "      <td>31650600</td>\n",
       "      <td>158253000</td>\n",
       "      <td>2020</td>\n",
       "      <td>2019</td>\n",
       "      <td>2018</td>\n",
       "      <td>0.7</td>\n",
       "    </tr>\n",
       "  </tbody>\n",
       "</table>\n",
       "</div>"
      ],
      "text/plain": [
       "   Player_number   Age  Years      Value  Ave_Salary  Max Value  Year  Year_1  \\\n",
       "0              1  29.3      1    6000000     6000000    6000000  2020    2019   \n",
       "1              2  27.4      1    2258000     2258000    2258000  2020    2019   \n",
       "2              3  27.7      5  189903600    37980720  189903600  2020    2019   \n",
       "3              4  33.9      2   14350000     7175000   14350000  2020    2019   \n",
       "4              5  28.2      3    9975000     3325000    9975000  2020    2019   \n",
       "5              6  29.9      1    5635000     5635000    5635000  2020    2019   \n",
       "6              7  28.2      1    3500000     3500000    3500000  2020    2019   \n",
       "7              8  25.8      2    7427150     3713575    7427150  2020    2019   \n",
       "8              9  28.2      4   72000000    18000000   72000000  2020    2019   \n",
       "9             10  23.2      5  158253000    31650600  158253000  2020    2019   \n",
       "\n",
       "   Year _2  VORP_0  \n",
       "0     2018     0.0  \n",
       "1     2018    -0.1  \n",
       "2     2018    -1.0  \n",
       "3     2018     3.7  \n",
       "4     2018     0.0  \n",
       "5     2018    -0.5  \n",
       "6     2018     2.4  \n",
       "7     2018    -0.5  \n",
       "8     2018     0.2  \n",
       "9     2018     0.7  "
      ]
     },
     "execution_count": 3,
     "metadata": {},
     "output_type": "execute_result"
    }
   ],
   "source": [
    "import matplotlib.pyplot as plt\n",
    "from sklearn import linear_model\n",
    "import pandas as pd\n",
    "import numpy as np\n",
    "from sklearn.linear_model import LinearRegression\n",
    "from sklearn.metrics import mean_squared_error, r2_score\n",
    "from sklearn import datasets, linear_model\n",
    "\n",
    "#read in data\n",
    "df1 = pd.read_csv('data/SPOTRAC.csv')\n",
    "Y = df1['Ave_Salary']\n",
    "X = df1['VORP_0']\n",
    "X_1 = df1['Age']\n",
    "df1.head(10)"
   ]
  },
  {
   "cell_type": "code",
   "execution_count": 12,
   "id": "bde6eecb-b4fc-49f3-91f7-c071f75ee09d",
   "metadata": {},
   "outputs": [],
   "source": [
    "# Split the data into training/testing sets\n",
    "X_train = np.array(X[:-25], np.newaxis)\n",
    "X_test = np.array(X[-25:], np.newaxis)\n",
    "\n",
    "# X_1_train = np.array(X_1[:-25])\n",
    "# X_1_test = np.array(X_1[-25:])\n",
    "# Split the targets into training/testing sets\n",
    "y_train = np.array(Y[:-25])\n",
    "y_test = np.array(Y[-25:])"
   ]
  },
  {
   "cell_type": "code",
   "execution_count": 13,
   "id": "027fca63-7b4b-4c8d-83ce-5eee1440ac6e",
   "metadata": {},
   "outputs": [
    {
     "data": {
      "image/png": "[encoded data removed]",
      "text/plain": [
       "<Figure size 640x480 with 1 Axes>"
      ]
     },
     "metadata": {},
     "output_type": "display_data"
    }
   ],
   "source": [
    "plt.scatter(X,Y, color = 'black')\n",
    "plt.xlabel('VORP_0')\n",
    "plt.ylabel('Salaries')\n",
    "plt.xticks(())\n",
    "plt.yticks(())\n",
    "plt.show()"
   ]
  },
  {
   "cell_type": "code",
   "execution_count": 15,
   "id": "c85101e9-9216-4671-9c5c-1b3de4e58f61",
   "metadata": {},
   "outputs": [
    {
     "data": {
      "text/plain": [
       "numpy.ndarray"
      ]
     },
     "execution_count": 15,
     "metadata": {},
     "output_type": "execute_result"
    }
   ],
   "source": [
    "X_train = X_train[:, np.newaxis]\n",
    "X_train\n",
    "X_test = X_test[:, np.newaxis]\n",
    "X_test\n",
    "type(X_test)"
   ]
  },
  {
   "cell_type": "code",
   "execution_count": 16,
   "id": "7958a705-9593-47d1-be3f-ab2083c05823",
   "metadata": {},
   "outputs": [
    {
     "data": {
      "text/html": [
       "<style>#sk-container-id-1 {color: black;background-color: white;}#sk-container-id-1 pre{padding: 0;}#sk-container-id-1 div.sk-toggleable {background-color: white;}#sk-container-id-1 label.sk-toggleable__label {cursor: pointer;display: block;width: 100%;margin-bottom: 0;padding: 0.3em;box-sizing: border-box;text-align: center;}#sk-container-id-1 label.sk-toggleable__label-arrow:before {content: \"▸\";float: left;margin-right: 0.25em;color: #696969;}#sk-container-id-1 label.sk-toggleable__label-arrow:hover:before {color: black;}#sk-container-id-1 div.sk-estimator:hover label.sk-toggleable__label-arrow:before {color: black;}#sk-container-id-1 div.sk-toggleable__content {max-height: 0;max-width: 0;overflow: hidden;text-align: left;background-color: #f0f8ff;}#sk-container-id-1 div.sk-toggleable__content pre {margin: 0.2em;color: black;border-radius: 0.25em;background-color: #f0f8ff;}#sk-container-id-1 input.sk-toggleable__control:checked~div.sk-toggleable__content {max-height: 200px;max-width: 100%;overflow: auto;}#sk-container-id-1 input.sk-toggleable__control:checked~label.sk-toggleable__label-arrow:before {content: \"▾\";}#sk-container-id-1 div.sk-estimator input.sk-toggleable__control:checked~label.sk-toggleable__label {background-color: #d4ebff;}#sk-container-id-1 div.sk-label input.sk-toggleable__control:checked~label.sk-toggleable__label {background-color: #d4ebff;}#sk-container-id-1 input.sk-hidden--visually {border: 0;clip: rect(1px 1px 1px 1px);clip: rect(1px, 1px, 1px, 1px);height: 1px;margin: -1px;overflow: hidden;padding: 0;position: absolute;width: 1px;}#sk-container-id-1 div.sk-estimator {font-family: monospace;background-color: #f0f8ff;border: 1px dotted black;border-radius: 0.25em;box-sizing: border-box;margin-bottom: 0.5em;}#sk-container-id-1 div.sk-estimator:hover {background-color: #d4ebff;}#sk-container-id-1 div.sk-parallel-item::after {content: \"\";width: 100%;border-bottom: 1px solid gray;flex-grow: 1;}#sk-container-id-1 div.sk-label:hover label.sk-toggleable__label {background-color: #d4ebff;}#sk-container-id-1 div.sk-serial::before {content: \"\";position: absolute;border-left: 1px solid gray;box-sizing: border-box;top: 0;bottom: 0;left: 50%;z-index: 0;}#sk-container-id-1 div.sk-serial {display: flex;flex-direction: column;align-items: center;background-color: white;padding-right: 0.2em;padding-left: 0.2em;position: relative;}#sk-container-id-1 div.sk-item {position: relative;z-index: 1;}#sk-container-id-1 div.sk-parallel {display: flex;align-items: stretch;justify-content: center;background-color: white;position: relative;}#sk-container-id-1 div.sk-item::before, #sk-container-id-1 div.sk-parallel-item::before {content: \"\";position: absolute;border-left: 1px solid gray;box-sizing: border-box;top: 0;bottom: 0;left: 50%;z-index: -1;}#sk-container-id-1 div.sk-parallel-item {display: flex;flex-direction: column;z-index: 1;position: relative;background-color: white;}#sk-container-id-1 div.sk-parallel-item:first-child::after {align-self: flex-end;width: 50%;}#sk-container-id-1 div.sk-parallel-item:last-child::after {align-self: flex-start;width: 50%;}#sk-container-id-1 div.sk-parallel-item:only-child::after {width: 0;}#sk-container-id-1 div.sk-dashed-wrapped {border: 1px dashed gray;margin: 0 0.4em 0.5em 0.4em;box-sizing: border-box;padding-bottom: 0.4em;background-color: white;}#sk-container-id-1 div.sk-label label {font-family: monospace;font-weight: bold;display: inline-block;line-height: 1.2em;}#sk-container-id-1 div.sk-label-container {text-align: center;}#sk-container-id-1 div.sk-container {/* jupyter's `normalize.less` sets `[hidden] { display: none; }` but bootstrap.min.css set `[hidden] { display: none !important; }` so we also need the `!important` here to be able to override the default hidden behavior on the sphinx rendered scikit-learn.org. See: https://github.com/scikit-learn/scikit-learn/issues/21755 */display: inline-block !important;position: relative;}#sk-container-id-1 div.sk-text-repr-fallback {display: none;}</style><div id=\"sk-container-id-1\" class=\"sk-top-container\"><div class=\"sk-text-repr-fallback\"><pre>LinearRegression()</pre><b>In a Jupyter environment, please rerun this cell to show the HTML representation or trust the notebook. <br />On GitHub, the HTML representation is unable to render, please try loading this page with nbviewer.org.</b></div><div class=\"sk-container\" hidden><div class=\"sk-item\"><div class=\"sk-estimator sk-toggleable\"><input class=\"sk-toggleable__control sk-hidden--visually\" id=\"sk-estimator-id-1\" type=\"checkbox\" checked><label for=\"sk-estimator-id-1\" class=\"sk-toggleable__label sk-toggleable__label-arrow\">LinearRegression</label><div class=\"sk-toggleable__content\"><pre>LinearRegression()</pre></div></div></div></div></div>"
      ],
      "text/plain": [
       "LinearRegression()"
      ]
     },
     "execution_count": 16,
     "metadata": {},
     "output_type": "execute_result"
    }
   ],
   "source": [
    "regr = linear_model.LinearRegression()\n",
    "# Train the model using the training sets\n",
    "y_train = y_train.reshape(-1, 1)\n",
    "regr.fit(X_train, y_train)"
   ]
  },
  {
   "cell_type": "code",
   "execution_count": 18,
   "id": "e4c324d3-95e5-4aa3-b58e-2451cf121305",
   "metadata": {},
   "outputs": [
    {
     "name": "stdout",
     "output_type": "stream",
     "text": [
      "[[6242813.57875267]\n",
      " [5790294.09918592]\n",
      " [6355943.44864436]\n",
      " [5677164.22929423]\n",
      " [5394339.55456501]\n",
      " [6186248.64380682]\n",
      " [5677164.22929423]\n",
      " [5733729.16424007]\n",
      " [5790294.09918592]\n",
      " [6186248.64380682]\n",
      " [6129683.70886098]\n",
      " [5846859.03413176]\n",
      " [5790294.09918592]\n",
      " [5677164.22929423]\n",
      " [6242813.57875267]\n",
      " [5846859.03413176]\n",
      " [5733729.16424007]\n",
      " [5846859.03413176]\n",
      " [6073118.77391514]\n",
      " [5790294.09918592]\n",
      " [5790294.09918592]\n",
      " [6073118.77391514]\n",
      " [5677164.22929423]\n",
      " [5733729.16424007]\n",
      " [8844800.58626148]]\n"
     ]
    }
   ],
   "source": [
    "# Make predictions using the testing set\n",
    "y_pred = regr.predict(X_test)\n",
    "print(y_pred)"
   ]
  },
  {
   "cell_type": "code",
   "execution_count": 21,
   "id": "3dcaebfc-4b2f-4bd6-bf3e-15dbb4716f42",
   "metadata": {},
   "outputs": [
    {
     "name": "stdout",
     "output_type": "stream",
     "text": [
      "Coefficients: \n",
      " [[565649.34945844]]\n",
      "Mean squared error: 61475555876857.74\n",
      "Coefficient of determination: 0.11\n"
     ]
    },
    {
     "data": {
      "image/png": "[encoded data removed]",
      "text/plain": [
       "<Figure size 640x480 with 1 Axes>"
      ]
     },
     "metadata": {},
     "output_type": "display_data"
    }
   ],
   "source": [
    "# The coefficients\n",
    "print(\"Coefficients: \\n\", regr.coef_)\n",
    "# The mean squared error\n",
    "print(\"Mean squared error: %.2f\" % mean_squared_error(y_test, y_pred))\n",
    "# The coefficient of determination: 1 is perfect prediction\n",
    "print(\"Coefficient of determination: %.2f\" % r2_score(y_test, y_pred))\n",
    "\n",
    "# Plot outputs\n",
    "plt.scatter(X_test, y_test, color=\"black\")\n",
    "plt.plot(X_test, y_pred, color=\"blue\", linewidth=3)\n",
    "\n",
    "plt.xticks(())\n",
    "plt.yticks(())\n",
    "\n",
    "plt.show()"
   ]
  },
  {
   "cell_type": "code",
   "execution_count": null,
   "id": "3c1e7241-4efd-4e14-809d-ec48d9ec3cee",
   "metadata": {},
   "outputs": [],
   "source": []
  }
 ],
 "metadata": {
  "kernelspec": {
   "display_name": "Python 3 (ipykernel)",
   "language": "python",
   "name": "python3"
  },
  "language_info": {
   "codemirror_mode": {
    "name": "ipython",
    "version": 3
   },
   "file_extension": ".py",
   "mimetype": "text/x-python",
   "name": "python",
   "nbconvert_exporter": "python",
   "pygments_lexer": "ipython3",
   "version": "3.10.9"
  }
 },
 "nbformat": 4,
 "nbformat_minor": 5
}
