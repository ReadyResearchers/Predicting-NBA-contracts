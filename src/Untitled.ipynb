{
 "cells": [
  {
   "cell_type": "code",
   "execution_count": 66,
   "id": "8e0a9737-b236-4528-935c-d4dd4169c016",
   "metadata": {},
   "outputs": [
    {
     "ename": "SyntaxError",
     "evalue": "invalid syntax (1962914034.py, line 13)",
     "output_type": "error",
     "traceback": [
      "\u001b[0;36m  Cell \u001b[0;32mIn[66], line 13\u001b[0;36m\u001b[0m\n\u001b[0;31m    test_indices = [:-259]\u001b[0m\n\u001b[0m                    ^\u001b[0m\n\u001b[0;31mSyntaxError\u001b[0m\u001b[0;31m:\u001b[0m invalid syntax\n"
     ]
    }
   ],
   "source": [
    "import numpy as np\n",
    "import pandas as pd\n",
    "from sklearn.linear_model import LinearRegression\n",
    "from sklearn.model_selection import train_test_split\n",
    "\n",
    "# Load data into a pandas DataFrame\n",
    "train = pd.read_csv(\"data/Train_data.csv\")\n",
    "test = pd.read_csv(\"data/Train_data.csv\")\n",
    "# Extract two specific columns\n",
    "features = train.loc[:, [\"VORP_0\", \"Age\"]]\n",
    "target = test.loc[:, \"VORP_0\"]\n",
    "\n",
    "test_indices = [:-259]\n",
    "train_df = df.drop(df.index[test_indices])\n",
    "test_df = df.loc[test_indices]\n",
    "\n",
    "# Extract specific rows\n",
    "mask = (data[\"VORP_0\"] > 0) & (data[\"Age\"] > 0)\n",
    "features = features[mask]\n",
    "target = target[mask]\n",
    "\n",
    "# Split the data into training and testing sets\n",
    "#train_features, test_features, train_target, test_target = train_test_split(features, target, test_size = :-259)\n",
    "\n",
    "X_train, X_test = train_df.drop('VORP_0', axis=1), test_df.drop('VORP_0', axis=1)\n",
    "y_train, y_test = train_df['VORP_0'], test_df['VORP_0']\n",
    "\n",
    "# Train the model\n",
    "reg = LinearRegression().fit(train_features, train_target)\n",
    "\n",
    "# Make predictions on the test data\n",
    "predictions = reg.predict(test_features)\n",
    "\n",
    "# Evaluate the model\n",
    "print(\"R^2:\", reg.score(test_features, test_target))\n"
   ]
  },
  {
   "cell_type": "code",
   "execution_count": 65,
   "id": "2f92a7fd-1652-417d-9ec5-486441919e27",
   "metadata": {},
   "outputs": [
    {
     "name": "stdout",
     "output_type": "stream",
     "text": [
      "(array([], dtype=int64),)\n"
     ]
    }
   ],
   "source": [
    "import pandas as pd\n",
    "\n",
    "# Load dataframe\n",
    "df = pd.read_csv('data/SPOTRAC.csv')\n",
    "\n",
    "import numpy as np\n",
    "\n",
    "# Locate missing values in the target column\n",
    "missing_values = np.where(np.isnan(df['VORP_0']))\n",
    "\n",
    "# Print the location of missing values\n",
    "print(missing_values)"
   ]
  },
  {
   "cell_type": "code",
   "execution_count": 67,
   "id": "bef33a47-cdcd-422c-ad0d-6fcbdd5ee69c",
   "metadata": {},
   "outputs": [
    {
     "name": "stdout",
     "output_type": "stream",
     "text": [
      "(array([], dtype=int64),)\n",
      "False\n",
      "False\n",
      "Empty DataFrame\n",
      "Columns: [Player_number, Age, Years, Value, Ave_Salary, Max Value, Year, Year_1, Year _2]\n",
      "Index: []\n"
     ]
    },
    {
     "ename": "ValueError",
     "evalue": "Found input variables with inconsistent numbers of samples: [122, 259]",
     "output_type": "error",
     "traceback": [
      "\u001b[0;31m---------------------------------------------------------------------------\u001b[0m",
      "\u001b[0;31mValueError\u001b[0m                                Traceback (most recent call last)",
      "Cell \u001b[0;32mIn[67], line 40\u001b[0m\n\u001b[1;32m     37\u001b[0m predictions \u001b[38;5;241m=\u001b[39m reg\u001b[38;5;241m.\u001b[39mpredict(X_test)\n\u001b[1;32m     39\u001b[0m \u001b[38;5;66;03m# Evaluate the model\u001b[39;00m\n\u001b[0;32m---> 40\u001b[0m \u001b[38;5;28mprint\u001b[39m(\u001b[38;5;124m\"\u001b[39m\u001b[38;5;124mR^2:\u001b[39m\u001b[38;5;124m\"\u001b[39m, \u001b[43mreg\u001b[49m\u001b[38;5;241;43m.\u001b[39;49m\u001b[43mscore\u001b[49m\u001b[43m(\u001b[49m\u001b[43mX_test\u001b[49m\u001b[43m,\u001b[49m\u001b[43m \u001b[49m\u001b[43my_train\u001b[49m\u001b[43m)\u001b[49m)\n",
      "File \u001b[0;32m/usr/local/lib/python3.10/site-packages/sklearn/base.py:693\u001b[0m, in \u001b[0;36mRegressorMixin.score\u001b[0;34m(self, X, y, sample_weight)\u001b[0m\n\u001b[1;32m    690\u001b[0m \u001b[38;5;28;01mfrom\u001b[39;00m \u001b[38;5;21;01m.\u001b[39;00m\u001b[38;5;21;01mmetrics\u001b[39;00m \u001b[38;5;28;01mimport\u001b[39;00m r2_score\n\u001b[1;32m    692\u001b[0m y_pred \u001b[38;5;241m=\u001b[39m \u001b[38;5;28mself\u001b[39m\u001b[38;5;241m.\u001b[39mpredict(X)\n\u001b[0;32m--> 693\u001b[0m \u001b[38;5;28;01mreturn\u001b[39;00m \u001b[43mr2_score\u001b[49m\u001b[43m(\u001b[49m\u001b[43my\u001b[49m\u001b[43m,\u001b[49m\u001b[43m \u001b[49m\u001b[43my_pred\u001b[49m\u001b[43m,\u001b[49m\u001b[43m \u001b[49m\u001b[43msample_weight\u001b[49m\u001b[38;5;241;43m=\u001b[39;49m\u001b[43msample_weight\u001b[49m\u001b[43m)\u001b[49m\n",
      "File \u001b[0;32m/usr/local/lib/python3.10/site-packages/sklearn/metrics/_regression.py:911\u001b[0m, in \u001b[0;36mr2_score\u001b[0;34m(y_true, y_pred, sample_weight, multioutput, force_finite)\u001b[0m\n\u001b[1;32m    784\u001b[0m \u001b[38;5;28;01mdef\u001b[39;00m \u001b[38;5;21mr2_score\u001b[39m(\n\u001b[1;32m    785\u001b[0m     y_true,\n\u001b[1;32m    786\u001b[0m     y_pred,\n\u001b[0;32m   (...)\u001b[0m\n\u001b[1;32m    790\u001b[0m     force_finite\u001b[38;5;241m=\u001b[39m\u001b[38;5;28;01mTrue\u001b[39;00m,\n\u001b[1;32m    791\u001b[0m ):\n\u001b[1;32m    792\u001b[0m     \u001b[38;5;124;03m\"\"\":math:`R^2` (coefficient of determination) regression score function.\u001b[39;00m\n\u001b[1;32m    793\u001b[0m \n\u001b[1;32m    794\u001b[0m \u001b[38;5;124;03m    Best possible score is 1.0 and it can be negative (because the\u001b[39;00m\n\u001b[0;32m   (...)\u001b[0m\n\u001b[1;32m    909\u001b[0m \u001b[38;5;124;03m    -inf\u001b[39;00m\n\u001b[1;32m    910\u001b[0m \u001b[38;5;124;03m    \"\"\"\u001b[39;00m\n\u001b[0;32m--> 911\u001b[0m     y_type, y_true, y_pred, multioutput \u001b[38;5;241m=\u001b[39m \u001b[43m_check_reg_targets\u001b[49m\u001b[43m(\u001b[49m\n\u001b[1;32m    912\u001b[0m \u001b[43m        \u001b[49m\u001b[43my_true\u001b[49m\u001b[43m,\u001b[49m\u001b[43m \u001b[49m\u001b[43my_pred\u001b[49m\u001b[43m,\u001b[49m\u001b[43m \u001b[49m\u001b[43mmultioutput\u001b[49m\n\u001b[1;32m    913\u001b[0m \u001b[43m    \u001b[49m\u001b[43m)\u001b[49m\n\u001b[1;32m    914\u001b[0m     check_consistent_length(y_true, y_pred, sample_weight)\n\u001b[1;32m    916\u001b[0m     \u001b[38;5;28;01mif\u001b[39;00m _num_samples(y_pred) \u001b[38;5;241m<\u001b[39m \u001b[38;5;241m2\u001b[39m:\n",
      "File \u001b[0;32m/usr/local/lib/python3.10/site-packages/sklearn/metrics/_regression.py:100\u001b[0m, in \u001b[0;36m_check_reg_targets\u001b[0;34m(y_true, y_pred, multioutput, dtype)\u001b[0m\n\u001b[1;32m     66\u001b[0m \u001b[38;5;28;01mdef\u001b[39;00m \u001b[38;5;21m_check_reg_targets\u001b[39m(y_true, y_pred, multioutput, dtype\u001b[38;5;241m=\u001b[39m\u001b[38;5;124m\"\u001b[39m\u001b[38;5;124mnumeric\u001b[39m\u001b[38;5;124m\"\u001b[39m):\n\u001b[1;32m     67\u001b[0m     \u001b[38;5;124;03m\"\"\"Check that y_true and y_pred belong to the same regression task.\u001b[39;00m\n\u001b[1;32m     68\u001b[0m \n\u001b[1;32m     69\u001b[0m \u001b[38;5;124;03m    Parameters\u001b[39;00m\n\u001b[0;32m   (...)\u001b[0m\n\u001b[1;32m     98\u001b[0m \u001b[38;5;124;03m        correct keyword.\u001b[39;00m\n\u001b[1;32m     99\u001b[0m \u001b[38;5;124;03m    \"\"\"\u001b[39;00m\n\u001b[0;32m--> 100\u001b[0m     \u001b[43mcheck_consistent_length\u001b[49m\u001b[43m(\u001b[49m\u001b[43my_true\u001b[49m\u001b[43m,\u001b[49m\u001b[43m \u001b[49m\u001b[43my_pred\u001b[49m\u001b[43m)\u001b[49m\n\u001b[1;32m    101\u001b[0m     y_true \u001b[38;5;241m=\u001b[39m check_array(y_true, ensure_2d\u001b[38;5;241m=\u001b[39m\u001b[38;5;28;01mFalse\u001b[39;00m, dtype\u001b[38;5;241m=\u001b[39mdtype)\n\u001b[1;32m    102\u001b[0m     y_pred \u001b[38;5;241m=\u001b[39m check_array(y_pred, ensure_2d\u001b[38;5;241m=\u001b[39m\u001b[38;5;28;01mFalse\u001b[39;00m, dtype\u001b[38;5;241m=\u001b[39mdtype)\n",
      "File \u001b[0;32m/usr/local/lib/python3.10/site-packages/sklearn/utils/validation.py:397\u001b[0m, in \u001b[0;36mcheck_consistent_length\u001b[0;34m(*arrays)\u001b[0m\n\u001b[1;32m    395\u001b[0m uniques \u001b[38;5;241m=\u001b[39m np\u001b[38;5;241m.\u001b[39munique(lengths)\n\u001b[1;32m    396\u001b[0m \u001b[38;5;28;01mif\u001b[39;00m \u001b[38;5;28mlen\u001b[39m(uniques) \u001b[38;5;241m>\u001b[39m \u001b[38;5;241m1\u001b[39m:\n\u001b[0;32m--> 397\u001b[0m     \u001b[38;5;28;01mraise\u001b[39;00m \u001b[38;5;167;01mValueError\u001b[39;00m(\n\u001b[1;32m    398\u001b[0m         \u001b[38;5;124m\"\u001b[39m\u001b[38;5;124mFound input variables with inconsistent numbers of samples: \u001b[39m\u001b[38;5;132;01m%r\u001b[39;00m\u001b[38;5;124m\"\u001b[39m\n\u001b[1;32m    399\u001b[0m         \u001b[38;5;241m%\u001b[39m [\u001b[38;5;28mint\u001b[39m(l) \u001b[38;5;28;01mfor\u001b[39;00m l \u001b[38;5;129;01min\u001b[39;00m lengths]\n\u001b[1;32m    400\u001b[0m     )\n",
      "\u001b[0;31mValueError\u001b[0m: Found input variables with inconsistent numbers of samples: [122, 259]"
     ]
    }
   ],
   "source": [
    "import pandas as pd\n",
    "from sklearn.model_selection import train_test_split\n",
    "import numpy as np\n",
    "\n",
    "# Load the data into a pandas DataFrame\n",
    "df = pd.read_csv('data/SPOTRAC.csv')\n",
    "\n",
    "# Locate missing values in the target column\n",
    "missing_values = np.where(np.isnan(df['VORP_0']))\n",
    "\n",
    "# Print the location of missing values\n",
    "print(missing_values)\n",
    "\n",
    "print(np.isnan(y_test).any())\n",
    "print(np.isnan(X_test).any().any())\n",
    "# Identify the rows with missing values in X_test\n",
    "missing_rows = X_test[X_test.isnull().any(axis=1)]\n",
    "print(missing_rows)\n",
    "\n",
    "# Define the first 259 rows as the test set\n",
    "n = 259\n",
    "test_df = df.iloc[:n]\n",
    "\n",
    "# Define the remaining rows as the training set\n",
    "train_df = df.iloc[n:]\n",
    "\n",
    "# Split the data into features and target variables\n",
    "# Split the data into features and target variables\n",
    "X_train = train_df.drop(columns=['VORP_0'])\n",
    "y_train = train_df['VORP_0']\n",
    "X_test = test_df.drop(columns=['VORP_0'])\n",
    "y_test = test_df['VORP_0']\n",
    "\n",
    "reg = LinearRegression().fit(X_train, y_train)\n",
    "\n",
    "# Make predictions on the test data\n",
    "predictions = reg.predict(X_test)\n",
    "\n",
    "# Evaluate the model\n",
    "print(\"R^2:\", reg.score(X_test, y_train))\n"
   ]
  },
  {
   "cell_type": "code",
   "execution_count": 86,
   "id": "864b9cbe-691b-4209-b7cd-6dfaeca7424c",
   "metadata": {},
   "outputs": [
    {
     "name": "stdout",
     "output_type": "stream",
     "text": [
      "LinearRegression()\n",
      "R^2: 1.0\n"
     ]
    }
   ],
   "source": [
    "import pandas as pd\n",
    "import numpy as np\n",
    "from sklearn.linear_model import LinearRegression\n",
    "from sklearn.model_selection import train_test_split\n",
    "\n",
    "# Load the data into a pandas DataFrame\n",
    "df = pd.read_csv('data/SPOTRAC.csv')\n",
    "\n",
    "# Split the data into features and target variables\n",
    "X = df.drop(columns=['VORP_0'])\n",
    "y = df['Ave_Salary']\n",
    "\n",
    "# Split the data into training and testing sets\n",
    "X_train, X_test, y_train, y_test = train_test_split(X, y, test_size=0.3, random_state=42)\n",
    "\n",
    "# Train the model on the training data\n",
    "reg = LinearRegression().fit(X_train, y_train)\n",
    "\n",
    "print(reg)\n",
    "\n",
    "# Make predictions on the test data\n",
    "predictions = reg.predict(X_test)\n",
    "\n",
    "# Evaluate the model\n",
    "print(\"R^2:\", reg.score(X_test, y_test))"
   ]
  },
  {
   "cell_type": "code",
   "execution_count": 75,
   "id": "0e9366ce-653b-4954-99ed-222fd763a4ac",
   "metadata": {},
   "outputs": [
    {
     "name": "stdout",
     "output_type": "stream",
     "text": [
      "R^2: 0.9840297105946667\n"
     ]
    }
   ],
   "source": [
    "import pandas as pd\n",
    "from sklearn.model_selection import train_test_split\n",
    "from sklearn.ensemble import RandomForestRegressor\n",
    "\n",
    "# Load the data into a pandas DataFrame\n",
    "df = pd.read_csv('data/SPOTRAC.csv')\n",
    "\n",
    "# Define the first 259 rows as the test set\n",
    "n = 259\n",
    "test_df = df.iloc[:n]\n",
    "\n",
    "# Define the remaining rows as the training set\n",
    "train_df = df.iloc[n:]\n",
    "\n",
    "# Split the data into features and target variables\n",
    "X_train = train_df.drop(columns=['VORP_0', 'Age'])\n",
    "y_train = train_df['Ave_Salary']\n",
    "X_test = test_df.drop(columns=['VORP_0', 'Age'])\n",
    "y_test = test_df['Ave_Salary']\n",
    "\n",
    "# Train the random forest model\n",
    "reg = RandomForestRegressor().fit(X_train, y_train)\n",
    "\n",
    "# Make predictions on the test data\n",
    "predictions = reg.predict(X_test)\n",
    "\n",
    "# Evaluate the model performance\n",
    "print(\"R^2:\", reg.score(X_test, y_test))\n"
   ]
  },
  {
   "cell_type": "code",
   "execution_count": 76,
   "id": "b1d69ce7-0eb0-4087-94aa-34e4fedff409",
   "metadata": {},
   "outputs": [
    {
     "name": "stdout",
     "output_type": "stream",
     "text": [
      "R^2: 0.9840750477018662\n"
     ]
    }
   ],
   "source": [
    "import pandas as pd\n",
    "from sklearn.ensemble import GradientBoostingRegressor\n",
    "from sklearn.model_selection import train_test_split\n",
    "\n",
    "# Load the data into a pandas DataFrame\n",
    "df = pd.read_csv('data/SPOTRAC.csv')\n",
    "\n",
    "# Define the first 259 rows as the test set\n",
    "n = 259\n",
    "test_df = df.iloc[:n]\n",
    "\n",
    "# Define the remaining rows as the training set\n",
    "train_df = df.iloc[n:]\n",
    "\n",
    "# Split the data into features and target variables\n",
    "X_train = train_df.drop(columns=['VORP_0', 'Age'])\n",
    "y_train = train_df['Ave_Salary']\n",
    "X_test = test_df.drop(columns=['VORP_0', 'Age'])\n",
    "y_test = test_df['Ave_Salary']\n",
    "# Train the Gradient Boosting model\n",
    "gb = GradientBoostingRegressor().fit(X_train, y_train)\n",
    "\n",
    "# Make predictions on the test data\n",
    "predictions = gb.predict(X_test)\n",
    "\n",
    "# Evaluate the model\n",
    "print(\"R^2:\", gb.score(X_test, y_test))"
   ]
  },
  {
   "cell_type": "code",
   "execution_count": 77,
   "id": "017cab3c-e180-415b-a085-7164051a1fbf",
   "metadata": {},
   "outputs": [
    {
     "name": "stdout",
     "output_type": "stream",
     "text": [
      "R^2: 0.9999864203560844\n"
     ]
    }
   ],
   "source": [
    "import pandas as pd\n",
    "from sklearn.model_selection import train_test_split\n",
    "from sklearn.linear_model import Lasso\n",
    "\n",
    "# Load the data into a pandas DataFrame\n",
    "df = pd.read_csv('data/SPOTRAC.csv')\n",
    "\n",
    "# Define the first 259 rows as the test set\n",
    "n = 259\n",
    "test_df = df.iloc[:n]\n",
    "\n",
    "# Define the remaining rows as the training set\n",
    "train_df = df.iloc[n:]\n",
    "\n",
    "# Split the data into features and target variables\n",
    "X_train = train_df.drop(columns=['VORP_0', 'Age'])\n",
    "y_train = train_df['Ave_Salary']\n",
    "X_test = test_df.drop(columns=['VORP_0', 'Age'])\n",
    "y_test = test_df['Ave_Salary']\n",
    "\n",
    "# Fit the Lasso model\n",
    "reg = Lasso().fit(X_train, y_train)\n",
    "\n",
    "# Make predictions on the test data\n",
    "predictions = reg.predict(X_test)\n",
    "\n",
    "# Evaluate the model\n",
    "print(\"R^2:\", reg.score(X_test, y_test))"
   ]
  },
  {
   "cell_type": "code",
   "execution_count": 78,
   "id": "6aefb0bc-1113-476f-9f1b-fdb029ee793f",
   "metadata": {},
   "outputs": [
    {
     "name": "stdout",
     "output_type": "stream",
     "text": [
      "R^2: -0.24502810875861436\n"
     ]
    }
   ],
   "source": [
    "import pandas as pd\n",
    "from sklearn.svm import SVR\n",
    "from sklearn.model_selection import train_test_split\n",
    "\n",
    "# Load the data into a pandas DataFrame\n",
    "df = pd.read_csv('data/SPOTRAC.csv')\n",
    "\n",
    "# Define the first 259 rows as the test set\n",
    "n = 259\n",
    "test_df = df.iloc[:n]\n",
    "\n",
    "# Define the remaining rows as the training set\n",
    "train_df = df.iloc[n:]\n",
    "\n",
    "# Split the data into features and target variables\n",
    "X_train = train_df.drop(columns=['VORP_0', 'Age'])\n",
    "y_train = train_df['Ave_Salary']\n",
    "X_test = test_df.drop(columns=['VORP_0', 'Age'])\n",
    "y_test = test_df['Ave_Salary']\n",
    "\n",
    "# Fit the SVR model to the training data\n",
    "reg = SVR().fit(X_train, y_train)\n",
    "\n",
    "# Make predictions on the test data\n",
    "predictions = reg.predict(X_test)\n",
    "\n",
    "# Evaluate the model\n",
    "print(\"R^2:\", reg.score(X_test, y_test))"
   ]
  },
  {
   "cell_type": "code",
   "execution_count": 79,
   "id": "e7e1e0bb-a01f-4159-a4f0-d9a70b09115c",
   "metadata": {},
   "outputs": [
    {
     "name": "stdout",
     "output_type": "stream",
     "text": [
      "R^2: -0.15803375216536963\n"
     ]
    }
   ],
   "source": [
    "import pandas as pd\n",
    "from sklearn.svm import SVR\n",
    "from sklearn.model_selection import train_test_split\n",
    "\n",
    "# Load the data into a pandas DataFrame\n",
    "df = pd.read_csv('data/SPOTRAC.csv')\n",
    "\n",
    "# Define the target variable\n",
    "y = df['Ave_Salary']\n",
    "\n",
    "# Define the features\n",
    "X = df.drop(columns=['VORP_0', 'Age'])\n",
    "\n",
    "# Split the data into training and test sets\n",
    "X_train, X_test, y_train, y_test = train_test_split(X, y, test_size=0.3, random_state=42)\n",
    "\n",
    "# Fit the SVR model to the training data\n",
    "reg = SVR().fit(X_train, y_train)\n",
    "\n",
    "# Make predictions on the test data\n",
    "predictions = reg.predict(X_test)\n",
    "\n",
    "# Evaluate the model\n",
    "print(\"R^2:\", reg.score(X_test, y_test))"
   ]
  },
  {
   "cell_type": "code",
   "execution_count": 81,
   "id": "4706359b-2111-4683-a8ca-93919ea904e2",
   "metadata": {},
   "outputs": [
    {
     "name": "stdout",
     "output_type": "stream",
     "text": [
      "Mean Squared Error: 1.1294890686709435e-17\n",
      "R^2: 1.0\n"
     ]
    }
   ],
   "source": [
    "import pandas as pd\n",
    "df = pd.read_csv('data/SPOTRAC.csv')\n",
    "from sklearn.model_selection import train_test_split\n",
    "X = df.drop(columns=['Ave_Salary'])\n",
    "y = df[['VORP_0', 'Age']]\n",
    "X_train, X_test, y_train, y_test = train_test_split(X, y, test_size=0.2, random_state=42)\n",
    "from sklearn.linear_model import LinearRegression\n",
    "reg = LinearRegression().fit(X_train, y_train)\n",
    "predictions = reg.predict(X_test)\n",
    "from sklearn.metrics import mean_squared_error, r2_score\n",
    "print(\"Mean Squared Error:\", mean_squared_error(y_test, predictions))\n",
    "print(\"R^2:\", r2_score(y_test, predictions))\n"
   ]
  },
  {
   "cell_type": "code",
   "execution_count": 82,
   "id": "972c5c32-2123-47c5-a0dc-daff5c5066c2",
   "metadata": {},
   "outputs": [
    {
     "name": "stdout",
     "output_type": "stream",
     "text": [
      "Mean Squared Error: 1.1601800467349713e-18\n",
      "R^2: 1.0\n"
     ]
    }
   ],
   "source": [
    "import pandas as pd\n",
    "from sklearn.model_selection import train_test_split\n",
    "from sklearn.linear_model import LinearRegression\n",
    "import numpy as np\n",
    "from sklearn import metrics\n",
    "\n",
    "# Load the data into a pandas DataFrame\n",
    "df = pd.read_csv('data/SPOTRAC.csv')\n",
    "\n",
    "# Define the first 259 rows as the test set\n",
    "n = 259\n",
    "test_df = df.iloc[:n]\n",
    "\n",
    "# Define the remaining rows as the training set\n",
    "train_df = df.iloc[n:]\n",
    "\n",
    "# Split the data into features and target variables\n",
    "X_train = train_df.drop(columns=['VORP_0', 'Age'])\n",
    "y_train = train_df['Ave_Salary']\n",
    "X_test = test_df.drop(columns=['VORP_0', 'Age'])\n",
    "y_test = test_df['Ave_Salary']\n",
    "\n",
    "# Fit the OLS model on the training data\n",
    "reg = LinearRegression().fit(X_train, y_train)\n",
    "\n",
    "# Make predictions on the test data\n",
    "predictions = reg.predict(X_test)\n",
    "\n",
    "# Evaluate the model using the mean squared error and R^2\n",
    "mse = metrics.mean_squared_error(y_test, predictions)\n",
    "r2 = metrics.r2_score(y_test, predictions)\n",
    "\n",
    "print(\"Mean Squared Error:\", mse)\n",
    "print(\"R^2:\", r2)\n"
   ]
  },
  {
   "cell_type": "code",
   "execution_count": 83,
   "id": "a1731a22-6ca3-417c-9ab1-32d0ed52dcfd",
   "metadata": {},
   "outputs": [
    {
     "name": "stdout",
     "output_type": "stream",
     "text": [
      "Mean Squared Error: 1.06076529360001e-17\n",
      "R^2: 1.0\n"
     ]
    }
   ],
   "source": [
    "from sklearn.linear_model import LinearRegression\n",
    "from sklearn.metrics import mean_squared_error\n",
    "import pandas as pd\n",
    "\n",
    "# Load the data into a pandas DataFrame\n",
    "df = pd.read_csv('data/SPOTRAC.csv')\n",
    "\n",
    "# Split the data into features and target variables\n",
    "X_train = train_df.drop(columns=['VORP_0', 'Age'])\n",
    "y_train = train_df['Ave_Salary']\n",
    "X_test = test_df.drop(columns=['VORP_0', 'Age'])\n",
    "y_test = test_df['Ave_Salary']\n",
    "\n",
    "# Fit the model using OLS regression\n",
    "reg = LinearRegression().fit(X, y)\n",
    "\n",
    "# Make predictions on the test data\n",
    "predictions = reg.predict(X)\n",
    "\n",
    "# Evaluate the model\n",
    "print(\"Mean Squared Error:\", mean_squared_error(y, predictions))\n",
    "print(\"R^2:\", reg.score(X, y))"
   ]
  }
 ],
 "metadata": {
  "kernelspec": {
   "display_name": "Python 3 (ipykernel)",
   "language": "python",
   "name": "python3"
  },
  "language_info": {
   "codemirror_mode": {
    "name": "ipython",
    "version": 3
   },
   "file_extension": ".py",
   "mimetype": "text/x-python",
   "name": "python",
   "nbconvert_exporter": "python",
   "pygments_lexer": "ipython3",
   "version": "3.10.9"
  }
 },
 "nbformat": 4,
 "nbformat_minor": 5
}
