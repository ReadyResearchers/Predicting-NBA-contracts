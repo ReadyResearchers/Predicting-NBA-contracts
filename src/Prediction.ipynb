{
 "cells": [
  {
   "cell_type": "code",
   "execution_count": 7,
   "id": "8e0a9737-b236-4528-935c-d4dd4169c016",
   "metadata": {},
   "outputs": [
    {
     "name": "stdout",
     "output_type": "stream",
     "text": [
      "The DataFrame has been exported to Pred_actual.xlsx.\n"
     ]
    }
   ],
   "source": [
    "import pandas as pd\n",
    "from sklearn.linear_model import LinearRegression\n",
    "from sklearn.model_selection import train_test_split\n",
    "\n",
    "# Load the data from the CSV file\n",
    "df = pd.read_csv('data/VORP_Salary.csv')\n",
    "df.dropna(inplace=True)\n",
    "\n",
    "# Split the data into features and target variables\n",
    "X = df[['VORP_0', 'Age']]\n",
    "y = df['Ave Salary']\n",
    "\n",
    "# Split the data into training and testing sets\n",
    "train_mask = df['Year'] != 2022\n",
    "X_train, y_train = X[train_mask], y[train_mask]\n",
    "X_test, y_test = X[~train_mask], y[~train_mask]\n",
    "\n",
    "# Fit a linear regression model to the training data\n",
    "reg = LinearRegression().fit(X_train, y_train)\n",
    "\n",
    "# Make predictions on the test data\n",
    "predictions = reg.predict(X_test)\n",
    "\n",
    "# Create a DataFrame with the actual and predicted values\n",
    "test_df = pd.DataFrame({'Actual Ave Salary': y_test, 'Predicted Ave Salary': predictions})\n",
    "\n",
    "# Load the player_number column from the CSV file\n",
    "player_numbers = pd.read_csv('data/VORP_Salary.csv', usecols=['Player number'])\n",
    "\n",
    "# Add the player_number column to the test_df DataFrame\n",
    "test_df['Player number'] = player_numbers.iloc[X_test.index]['Player number'].tolist()\n",
    "\n",
    "# Export the DataFrame to an Excel file\n",
    "excel_file = 'Pred_actual.xlsx'\n",
    "test_df.to_excel(excel_file, index=False)\n",
    "\n",
    "print(f'The DataFrame has been exported to {excel_file}.')\n"
   ]
  },
  {
   "cell_type": "code",
   "execution_count": 8,
   "id": "5ee61bad-dca8-4fd7-b5c3-9e4ec2f9332e",
   "metadata": {},
   "outputs": [
    {
     "name": "stdout",
     "output_type": "stream",
     "text": [
      "Average R-squared value: 0.42561741308288403\n",
      "Mean Squared Error: 19954089325319.887\n",
      "R^2: 0.5275674637247969\n"
     ]
    }
   ],
   "source": [
    "import pandas as pd\n",
    "import numpy as np\n",
    "from sklearn.linear_model import LinearRegression\n",
    "from sklearn.model_selection import train_test_split\n",
    "from sklearn.metrics import r2_score\n",
    "\n",
    "df = pd.read_csv('https://raw.githubusercontent.com/ReadyResearchers/Predicting-NBA-contracts/main/src/data/VORP_Salary.csv')\n",
    "\n",
    "# Check for missing values in the DataFrame\n",
    "#print(df.isnull().sum())\n",
    "\n",
    "# Drop any rows with missing values\n",
    "df.dropna(inplace=True)\n",
    "\n",
    "# Split the data into features and target variables\n",
    "X = df[['VORP_0', 'Age']]\n",
    "y = df['Ave Salary']\n",
    "\n",
    "# Split the data into training and testing sets\n",
    "X_train, X_test, y_train, y_test = train_test_split(X, y, test_size=0.2)\n",
    "\n",
    "r_squared_values = []\n",
    "\n",
    "for i in range(10000):\n",
    "    X_train, X_test, y_train, y_test = train_test_split(X, y, test_size=0.2)\n",
    "    # fit a linear regression model to the training data\n",
    "    model = LinearRegression().fit(X_train, y_train)\n",
    "\n",
    "    # calculate the R-squared value on the testing data and append it to the list\n",
    "    y_pred = model.predict(X_test)\n",
    "    r_squared_values.append(r2_score(y_test, y_pred))\n",
    "\n",
    "# compute the average R-squared value\n",
    "avg_r_squared = np.mean(r_squared_values)\n",
    "\n",
    "print(\"Average R-squared value:\", avg_r_squared)\n",
    "\n",
    "# Train the model on the training data\n",
    "reg = LinearRegression().fit(X_train, y_train)\n",
    "\n",
    "# Make predictions on the test data\n",
    "predictions = reg.predict(X_test)\n",
    "#print(predictions)\n",
    "\n",
    "# Evaluate the model\n",
    "from sklearn.metrics import mean_squared_error, r2_score\n",
    "print(\"Mean Squared Error:\", mean_squared_error(y_test, predictions))\n",
    "print(\"R^2:\", r2_score(y_test, predictions))\n"
   ]
  },
  {
   "cell_type": "code",
   "execution_count": null,
   "id": "90d1e435-10cd-430c-b8d2-2794a2356ada",
   "metadata": {},
   "outputs": [],
   "source": []
  }
 ],
 "metadata": {
  "kernelspec": {
   "display_name": "Python 3 (ipykernel)",
   "language": "python",
   "name": "python3"
  },
  "language_info": {
   "codemirror_mode": {
    "name": "ipython",
    "version": 3
   },
   "file_extension": ".py",
   "mimetype": "text/x-python",
   "name": "python",
   "nbconvert_exporter": "python",
   "pygments_lexer": "ipython3",
   "version": "3.10.9"
  }
 },
 "nbformat": 4,
 "nbformat_minor": 5
}
